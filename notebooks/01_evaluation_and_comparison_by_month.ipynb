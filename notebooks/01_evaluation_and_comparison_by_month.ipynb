{
 "cells": [
  {
   "cell_type": "markdown",
   "id": "4181ef62",
   "metadata": {},
   "source": [
    "## Exploración mensual con datos procesados"
   ]
  },
  {
   "cell_type": "code",
   "execution_count": 1,
   "id": "2c825fdc",
   "metadata": {},
   "outputs": [],
   "source": [
    "# Librerias\n",
    "\n",
    "import os\n",
    "import pandas as pd\n",
    "import sys\n",
    "\n",
    "# Añadir la raíz del proyecto al PYTHONPATH\n",
    "sys.path.append(os.path.abspath(os.path.join(os.path.dirname(\"__file__\"), \"..\")))\n"
   ]
  },
  {
   "cell_type": "code",
   "execution_count": null,
   "id": "e96fc474",
   "metadata": {},
   "outputs": [],
   "source": [
    "train"
   ]
  },
  {
   "cell_type": "code",
   "execution_count": 2,
   "id": "59108900",
   "metadata": {},
   "outputs": [
    {
     "name": "stdout",
     "output_type": "stream",
     "text": [
      "Entrenamiento 2020-01 cargado con 100000 filas.\n",
      "[Test] 2020-02 cargado con 6219682 filas.\n",
      "[Test] 2020-03 cargado con 2965667 filas.\n",
      "[Test] 2020-04 cargado con 230623 filas.\n",
      "\n",
      "Total consolidado: 9,515,972 filas.\n"
     ]
    }
   ],
   "source": [
    "from src.config import TEST_PROCESSED_PATH, TRAIN_PROCESSED_PATH, MESES_EVALUACION\n",
    "\n",
    "# Cargar entrenamiento de enero 2020\n",
    "df_train = None\n",
    "train_path = os.path.join(TRAIN_PROCESSED_PATH, \"train_data.parquet\")\n",
    "if os.path.exists(train_path):\n",
    "    df_train = pd.read_parquet(train_path)\n",
    "    print(f\"Entrenamiento 2020-01 cargado con {len(df_train)} filas.\")\n",
    "else:\n",
    "    print(\"No se encontró el archivo de entrenamiento de enero 2020.\")\n",
    "\n",
    "# Cargar datos de evaluación por mes\n",
    "dfs_test = []\n",
    "for mes in MESES_EVALUACION:\n",
    "    path = os.path.join(TEST_PROCESSED_PATH, f\"test_processed_{mes}.parquet\")\n",
    "    if os.path.exists(path):\n",
    "        df = pd.read_parquet(path)\n",
    "        dfs_test.append(df)\n",
    "        print(f\"[Test] {mes} cargado con {len(df)} filas.\")\n",
    "    else:\n",
    "        print(f\"[Test] No se encontró el archivo para {mes}\")\n",
    "\n",
    "# Concatenar todo\n",
    "df_mensual = pd.concat([df_train] + dfs_test, ignore_index=True)\n",
    "print(f\"\\nTotal consolidado: {len(df_mensual):,} filas.\")\n",
    "\n",
    "\n",
    "\n"
   ]
  },
  {
   "cell_type": "markdown",
   "id": "318adeca",
   "metadata": {},
   "source": [
    "Se obverva que los datos "
   ]
  },
  {
   "cell_type": "markdown",
   "id": "07df6072",
   "metadata": {},
   "source": []
  }
 ],
 "metadata": {
  "kernelspec": {
   "display_name": "base",
   "language": "python",
   "name": "python3"
  },
  "language_info": {
   "codemirror_mode": {
    "name": "ipython",
    "version": 3
   },
   "file_extension": ".py",
   "mimetype": "text/x-python",
   "name": "python",
   "nbconvert_exporter": "python",
   "pygments_lexer": "ipython3",
   "version": "3.11.7"
  }
 },
 "nbformat": 4,
 "nbformat_minor": 5
}
