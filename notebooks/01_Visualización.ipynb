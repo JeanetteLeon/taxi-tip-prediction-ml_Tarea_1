{
 "cells": [
  {
   "cell_type": "code",
   "execution_count": 1,
   "id": "2c825fdc",
   "metadata": {},
   "outputs": [],
   "source": [
    "# Librerias\n",
    "\n",
    "import os\n",
    "import pandas as pd\n",
    "import sys\n",
    "\n",
    "# Añadir la raíz del proyecto al PYTHONPATH\n",
    "sys.path.append(os.path.abspath(os.path.join(os.path.dirname(\"__file__\"), \"..\")))\n"
   ]
  },
  {
   "cell_type": "markdown",
   "id": "e772d147",
   "metadata": {},
   "source": [
    "## Exploración de los dataset originales (enero a abril 2020)"
   ]
  },
  {
   "cell_type": "code",
   "execution_count": null,
   "id": "8bfed773",
   "metadata": {},
   "outputs": [],
   "source": [
    "import os\n",
    "import pandas as pd\n",
    "from src.config import MESES_EVALUACION, TEST_RAW_PATH, TEST_PROCESSED_PATH\n",
    "from src.data.dataset import load_dataset\n",
    "from src.modeling.predict import load_model, evaluate_model\n",
    "\n",
    "# Cargar modelo entrenado\n",
    "model = load_model()\n",
    "\n",
    "# Lista acumuladora\n",
    "df_acum = []\n",
    "\n",
    "for mes in MESES_EVALUACION:\n",
    "    print(f\"Procesando mes: {mes}\")\n",
    "\n",
    "    # Cargar datos crudos (100k)\n",
    "    path_crudo = os.path.join(TEST_RAW_PATH, f\"sample_raw_100k_{mes}.parquet\")\n",
    "    df_crudo = load_dataset(path_crudo)\n",
    "\n",
    "    # Cargar datos procesados (100k)\n",
    "    path_proc = os.path.join(TEST_PROCESSED_PATH, f\"sample_processed_100k_{mes}.parquet\")\n",
    "    df_proc = load_dataset(path_proc)\n",
    "\n",
    "    # Predecir\n",
    "    _, _, df_pred = evaluate_model(df_proc, model)\n",
    "\n",
    "    # Unir crudo + predicciones\n",
    "    df_mes = pd.concat([\n",
    "        df_crudo.reset_index(drop=True),\n",
    "        df_pred[[\"true_label\", \"predicted_label\", \"probability\"]].reset_index(drop=True)\n",
    "    ], axis=1)\n",
    "\n",
    "    df_mes[\"mes\"] = mes\n",
    "    df_acum.append(df_mes)\n",
    "\n",
    "# Unir todos los meses\n",
    "df_acum = pd.concat(df_acum, ignore_index=True)\n",
    "\n",
    "# Mostrar las primeras filas\n",
    "df_acum.head()\n"
   ]
  }
 ],
 "metadata": {
  "kernelspec": {
   "display_name": "base",
   "language": "python",
   "name": "python3"
  },
  "language_info": {
   "codemirror_mode": {
    "name": "ipython",
    "version": 3
   },
   "file_extension": ".py",
   "mimetype": "text/x-python",
   "name": "python",
   "nbconvert_exporter": "python",
   "pygments_lexer": "ipython3",
   "version": "3.11.7"
  }
 },
 "nbformat": 4,
 "nbformat_minor": 5
}
